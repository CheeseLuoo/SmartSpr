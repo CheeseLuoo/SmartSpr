{
 "cells": [
  {
   "cell_type": "code",
   "execution_count": 10,
   "id": "f99c0f16-14a7-4a4a-8ed6-3f285c52998a",
   "metadata": {},
   "outputs": [
    {
     "name": "stdout",
     "output_type": "stream",
     "text": [
      "read vehicle data...\n",
      "exclude the rainy days...\n",
      "read sprayer data...\n",
      "train_static_num 1170\n",
      "train_sprayer_num 215\n",
      "test_static_num 390\n",
      "Training Process: 0.561%\n"
     ]
    },
    {
     "ename": "RuntimeError",
     "evalue": "No active exception to reraise",
     "output_type": "error",
     "traceback": [
      "\u001b[1;31m---------------------------------------------------------------------------\u001b[0m",
      "\u001b[1;31mRuntimeError\u001b[0m                              Traceback (most recent call last)",
      "\u001b[1;32m<ipython-input-10-21b6194b299c>\u001b[0m in \u001b[0;36m<module>\u001b[1;34m\u001b[0m\n\u001b[0;32m    162\u001b[0m         \u001b[0mprint\u001b[0m\u001b[1;33m(\u001b[0m\u001b[1;34m\"test_static_num %d\"\u001b[0m\u001b[1;33m%\u001b[0m\u001b[1;33m(\u001b[0m\u001b[0mtest_static_num\u001b[0m\u001b[1;33m)\u001b[0m\u001b[1;33m)\u001b[0m\u001b[1;33m\u001b[0m\u001b[1;33m\u001b[0m\u001b[0m\n\u001b[0;32m    163\u001b[0m         \u001b[0mprint\u001b[0m\u001b[1;33m(\u001b[0m\u001b[1;34m\"Training Process: \"\u001b[0m \u001b[1;33m+\u001b[0m \u001b[0mstr\u001b[0m\u001b[1;33m(\u001b[0m\u001b[1;36m100\u001b[0m\u001b[1;33m*\u001b[0m\u001b[1;33m(\u001b[0m\u001b[0mt\u001b[0m \u001b[1;33m-\u001b[0m \u001b[0mtrain_range\u001b[0m\u001b[1;33m)\u001b[0m \u001b[1;33m/\u001b[0m \u001b[1;33m(\u001b[0m\u001b[0mend_time\u001b[0m \u001b[1;33m-\u001b[0m \u001b[0mtest_range\u001b[0m \u001b[1;33m-\u001b[0m \u001b[0mtrain_range\u001b[0m\u001b[1;33m)\u001b[0m\u001b[1;33m)\u001b[0m\u001b[1;33m[\u001b[0m\u001b[1;33m:\u001b[0m\u001b[1;36m5\u001b[0m\u001b[1;33m]\u001b[0m \u001b[1;33m+\u001b[0m \u001b[1;34m\"%\"\u001b[0m\u001b[1;33m)\u001b[0m\u001b[1;33m\u001b[0m\u001b[1;33m\u001b[0m\u001b[0m\n\u001b[1;32m--> 164\u001b[1;33m         \u001b[1;32mraise\u001b[0m\u001b[1;33m\u001b[0m\u001b[1;33m\u001b[0m\u001b[0m\n\u001b[0m\u001b[0;32m    165\u001b[0m         \u001b[1;31m# data_train.to_csv(data_dir + \"/data_train_\" + str(file_num) + \".csv\", index = False)\u001b[0m\u001b[1;33m\u001b[0m\u001b[1;33m\u001b[0m\u001b[1;33m\u001b[0m\u001b[0m\n\u001b[0;32m    166\u001b[0m         \u001b[1;31m# data_test.to_csv(data_dir + \"/data_test_\" + str(file_num) + \".csv\", index = False)\u001b[0m\u001b[1;33m\u001b[0m\u001b[1;33m\u001b[0m\u001b[1;33m\u001b[0m\u001b[0m\n",
      "\u001b[1;31mRuntimeError\u001b[0m: No active exception to reraise"
     ]
    }
   ],
   "source": [
    "import time\n",
    "import itertools\n",
    "import os\n",
    "import sys\n",
    "import pandas as pd\n",
    "pd.set_option('display.max_columns', None)\n",
    "import numpy as np\n",
    "import matplotlib.pyplot as plt\n",
    "import warnings\n",
    "from scipy import interpolate\n",
    "from scipy.stats import multivariate_normal\n",
    "warnings.filterwarnings(\"ignore\")\n",
    "\n",
    "np.set_printoptions(precision=2)\n",
    "\n",
    "import json\n",
    "import Sprayer_PINN as SP\n",
    "\n",
    "\n",
    "f2 = open('info.json', 'r')\n",
    "info_data = json.load(f2)\n",
    "\n",
    "data_dir = \"Data/Guicheng_data/\"\n",
    "train_range = 90\n",
    "test_range = 30\n",
    "update_time_range = 60\n",
    "\n",
    "time_start = pd.Timestamp('2022-09-18 00:00:00')\n",
    "time_start_2 = pd.Timestamp('2022-12-31 00:00:00')\n",
    "end_time = int((time_start_2 - time_start).total_seconds()/60)\n",
    "\n",
    "device_name = \"cpu\"\n",
    "\n",
    "train_sprayer_value_min = 100\n",
    "time_slice = 1\n",
    "x_slice = 0.1\n",
    "y_slice = 0.1\n",
    "\n",
    "\n",
    "\n",
    "\n",
    "\n",
    "vehicle_n = 22\n",
    "static_n = 17\n",
    "refer_n = 12\n",
    "\n",
    "\n",
    "\n",
    "\n",
    "\n",
    "result_path = 'result'\n",
    "process_path = 'process'\n",
    "isExists = os.path.exists(result_path)\n",
    "if not isExists:\n",
    "    os.makedirs(result_path)\n",
    "    os.makedirs(process_path)\n",
    "else:\n",
    "    result_path = 'result_'+ time.strftime('%H_%M_%S',time.localtime(time.time()))\n",
    "    process_path = 'process_'+ time.strftime('%H_%M_%S',time.localtime(time.time()))\n",
    "    isExists = os.path.exists(result_path)\n",
    "    if not isExists:\n",
    "        os.makedirs(result_path)\n",
    "        os.makedirs(process_path)\n",
    "\n",
    "print(\"read vehicle data...\")\n",
    "data_m = []\n",
    "data_m_ifrefer = [0 for i in range(vehicle_n)]\n",
    "data_m_test_result = [0 for i in range(vehicle_n)]\n",
    "data_m_total_test_result = [0 for i in range(vehicle_n)]\n",
    "i = 0\n",
    "for root, dirs, files in os.walk(data_dir + \"Station\"):\n",
    "    for file in files:\n",
    "#         print(os.path.join(root, file))\n",
    "        data_m.append(pd.read_csv(os.path.join(root, file)))\n",
    "        data_m[i] = data_m[i].iloc[:,[0,1,7,8]].dropna().reset_index(drop = True)\n",
    "        data_m[i][\"pm2d5_after_cal\"] = data_m[i].pm2d5\n",
    "        data_m[i].time = pd.to_datetime(data_m[i].date) - time_start\n",
    "        data_m[i][\"date\"] = pd.to_timedelta(list(pd.to_datetime(data_m[i].date) - time_start)).total_seconds() / 60\n",
    "        data_m[i] = data_m[i].rename(columns={'date': 'time', 'lon': 'x', 'lat': 'y'})\n",
    "        i += 1\n",
    "\n",
    "static_n = i\n",
    "\n",
    "print(\"exclude the rainy days...\")\n",
    "rain_time = ['2022-09-25','2022-09-27','2022-09-28',\n",
    "            '2022-10-04','2022-10-05','2022-10-06','2022-10-07','2022-10-08','2022-10-26',\n",
    "            '2022-11-12','2022-11-14','2022-11-16','2022-11-17','2022-11-18','2022-11-21','2022-11-22','2022-11-28','2022-11-29']\n",
    "# rain_num_range = []\n",
    "# i_pre = start_time_2 - 1440\n",
    "# for i in rain_time:\n",
    "#     rain_t = int((pd.Timestamp(i + ' 00:00:00+0800') - time_start).total_seconds() / 60)\n",
    "#     rain_num_range.append(range(i_pre + 1440 + train_range, rain_t - test_range, update_time_range))\n",
    "#     i_pre = rain_t\n",
    "\n",
    "print(\"read sprayer data...\")\n",
    "sprayer_parameter = pd.read_csv(data_dir + \"/Volume.csv\")\n",
    "data_sprayer = []\n",
    "i = 0\n",
    "for root, dirs, files in os.walk(data_dir + \"/Vehicle\"):\n",
    "    for file in files:\n",
    "        sprayer_ID = os.path.join(root, file)[-15:-8]\n",
    "        # print(sprayer_ID)\n",
    "        sprayer_scale = sprayer_parameter.loc[sprayer_parameter[\"车牌\"] == sprayer_ID,[\"水箱高度\", \"水箱吨位\"]]\n",
    "        # print(sprayer_scale)\n",
    "        data_sprayer.append(pd.read_csv(os.path.join(root, file)))\n",
    "        data_sprayer[i] = data_sprayer[i].iloc[:,[0,2,3,6,7]].dropna().reset_index(drop = True)\n",
    "        data_sprayer[i].time = pd.to_datetime(data_sprayer[i].date) - time_start\n",
    "        data_sprayer[i][\"date\"] = pd.to_timedelta(list(pd.to_datetime(data_sprayer[i].date) - time_start)).total_seconds() / 60\n",
    "        data_sprayer[i] = data_sprayer[i].rename(columns={'date': 'time',\\\n",
    "                                                          'longitude': 'x', 'latitude': 'y', 'level_diff_process':'spray_volume'})\n",
    "        data_sprayer[i][\"spray_volume\"] = - data_sprayer[i][\"spray_volume\"] * int(sprayer_scale[\"水箱吨位\"]) / int(sprayer_scale[\"水箱高度\"])\n",
    "        i += 1 \n",
    "sprayer_n = i\n",
    "train_static_num_set = []\n",
    "train_sprayer_num_set = []\n",
    "test_static_num_set = []\n",
    "test_sprayer_num_set = []\n",
    "file_num = 0\n",
    "for t in range(train_range, end_time - test_range, update_time_range):\n",
    "    experiment_time = str(time_start + pd.Timedelta(pd.offsets.Second(t*60)))\n",
    "    if experiment_time[:10] in rain_time:\n",
    "        continue\n",
    "    # print(experiment_time)\n",
    "    data_train = None\n",
    "    train_static_num = 0\n",
    "    for i in range(static_n):\n",
    "        data_pre_new_update = data_m[i].loc[(data_m[i].time >= t - train_range)\\\n",
    "                            &(data_m[i].time < t),['time', 'x', 'y', \"pm2d5_after_cal\"]]\n",
    "        data_pre_new_update[\"sensor_index\"] = i\n",
    "        data_train = pd.concat([data_train, data_pre_new_update])\n",
    "    if data_train is not None:\n",
    "        train_static_num = data_train.shape[0]\n",
    "#     train_static_num_set.append(train_static_num)\n",
    "\n",
    "    data_sprayer_train = []\n",
    "    train_sprayer_num = 0\n",
    "    train_sprayer_value = 0\n",
    "    for i in range(sprayer_n):\n",
    "        data_pre_new_update = data_sprayer[i].loc[(data_sprayer[i].time >= t - train_range)\\\n",
    "                            &(data_sprayer[i].time < t + test_range),['time', 'x', 'y', \"spray_volume\"]]\n",
    "        data_pre_new_update.loc[data_pre_new_update['spray_volume'] < 0, 'spray_volume'] = 0\n",
    "        if data_pre_new_update.shape[0] > 0:\n",
    "            data_sprayer_train.append(data_pre_new_update)\n",
    "            train_sprayer_value += data_pre_new_update[\"spray_volume\"].mean()\n",
    "        train_sprayer_num += data_pre_new_update.shape[0]\n",
    "#     train_sprayer_num_set.append(train_sprayer_num) \n",
    "\n",
    "    data_test = None\n",
    "    test_static_num = 0\n",
    "    for i in range(static_n):\n",
    "        data_pre_new_update = data_m[i].loc[(data_m[i].time >= t)\\\n",
    "                            &(data_m[i].time < t + test_range),['time', 'x', 'y', \"pm2d5_after_cal\"]]\n",
    "        data_pre_new_update[\"sensor_index\"] = i\n",
    "        data_test = pd.concat([data_test, data_pre_new_update])\n",
    "    if data_test is not None:\n",
    "        test_static_num = data_test.shape[0]\n",
    "#     test_static_num_set.append(test_static_num) \n",
    "\n",
    "    if train_sprayer_value > train_sprayer_value_min and test_static_num > 0 and train_static_num > 0:\n",
    "        print(\"train_static_num %d\"%(train_static_num))\n",
    "        print(\"train_sprayer_num %d\"%(train_sprayer_num))\n",
    "        print(\"test_static_num %d\"%(test_static_num))\n",
    "        print(\"Training Process: \" + str(100*(t - train_range) / (end_time - test_range - train_range))[:5] + \"%\")\n",
    "        raise\n",
    "        # data_train.to_csv(data_dir + \"/data_train_\" + str(file_num) + \".csv\", index = False)\n",
    "        # data_test.to_csv(data_dir + \"/data_test_\" + str(file_num) + \".csv\", index = False)\n",
    "        # for k in range(len(data_sprayer_train)):\n",
    "        #     data_sprayer_train[k].to_csv(data_dir + \"/data_sprayer_train_\" + str(file_num) + \"_\" + str(k) + \".csv\", index = False)\n",
    "        # file_num += 1\n",
    "        model = SP.InformedNN(now_t = t)\n",
    "        model.train(data_train, data_sprayer_train)\n",
    "        data_test[\"prediction_result\"] = model.forward(data_test).detach().numpy()\n",
    "#             train_range_show = 60 \n",
    "#             test_range_show = 60\n",
    "#             update_time_range_show = 10\n",
    "#             model.test_show(train_range_show, test_range_show, update_time_range_show, result_path, time_start)\n",
    "        data_test.to_csv(result_path + \"/data_test_\" + str(t) + \".csv\", index = False)\n",
    "\n",
    "    "
   ]
  },
  {
   "cell_type": "code",
   "execution_count": 9,
   "id": "685ac5f9-3ac6-4038-8ea2-cc00325f8d61",
   "metadata": {},
   "outputs": [
    {
     "data": {
      "text/plain": [
       "False"
      ]
     },
     "execution_count": 9,
     "metadata": {},
     "output_type": "execute_result"
    }
   ],
   "source": [
    "str(time_start + pd.Timedelta(pd.offsets.Second(t*60)))[:10] in rain_time"
   ]
  },
  {
   "cell_type": "code",
   "execution_count": 9,
   "id": "c354cfa8-a6fc-4c20-90ee-b6719aacc4e1",
   "metadata": {},
   "outputs": [
    {
     "name": "stdout",
     "output_type": "stream",
     "text": [
      "Training Process: 0.561%\n"
     ]
    }
   ],
   "source": [
    "print(\"Training Process: \" + str(100*(t - train_range) / (end_time - test_range - train_range))[:5] + \"%\")"
   ]
  },
  {
   "cell_type": "code",
   "execution_count": 5,
   "id": "5c8bd86f-aa52-4bb7-81a5-ab6cd7e31f7f",
   "metadata": {},
   "outputs": [
    {
     "data": {
      "text/plain": [
       "range(90, 149730, 60)"
      ]
     },
     "execution_count": 5,
     "metadata": {},
     "output_type": "execute_result"
    }
   ],
   "source": [
    "range(train_range, end_time - test_range, update_time_range)"
   ]
  },
  {
   "cell_type": "code",
   "execution_count": 3,
   "id": "906ad821-0766-40a5-9d48-826e04ad05bf",
   "metadata": {},
   "outputs": [
    {
     "data": {
      "text/plain": [
       "1170"
      ]
     },
     "execution_count": 3,
     "metadata": {},
     "output_type": "execute_result"
    }
   ],
   "source": [
    "len(data_train)"
   ]
  },
  {
   "cell_type": "code",
   "execution_count": 16,
   "id": "ed561b6d-83c4-41ec-bf6d-4c7844737dba",
   "metadata": {},
   "outputs": [
    {
     "ename": "ValueError",
     "evalue": "Must pass 2-d input. shape=(1, 120, 4)",
     "output_type": "error",
     "traceback": [
      "\u001b[1;31m---------------------------------------------------------------------------\u001b[0m",
      "\u001b[1;31mValueError\u001b[0m                                Traceback (most recent call last)",
      "\u001b[1;32m<ipython-input-16-96d7b5da788a>\u001b[0m in \u001b[0;36m<module>\u001b[1;34m\u001b[0m\n\u001b[1;32m----> 1\u001b[1;33m \u001b[0mpd\u001b[0m\u001b[1;33m.\u001b[0m\u001b[0mDataFrame\u001b[0m\u001b[1;33m(\u001b[0m\u001b[0mdata_sprayer_train\u001b[0m\u001b[1;33m)\u001b[0m\u001b[1;33m\u001b[0m\u001b[1;33m\u001b[0m\u001b[0m\n\u001b[0m",
      "\u001b[1;32mD:\\anaconda\\lib\\site-packages\\pandas\\core\\frame.py\u001b[0m in \u001b[0;36m__init__\u001b[1;34m(self, data, index, columns, dtype, copy)\u001b[0m\n\u001b[0;32m    582\u001b[0m                     \u001b[0mmgr\u001b[0m \u001b[1;33m=\u001b[0m \u001b[0marrays_to_mgr\u001b[0m\u001b[1;33m(\u001b[0m\u001b[0marrays\u001b[0m\u001b[1;33m,\u001b[0m \u001b[0mcolumns\u001b[0m\u001b[1;33m,\u001b[0m \u001b[0mindex\u001b[0m\u001b[1;33m,\u001b[0m \u001b[0mcolumns\u001b[0m\u001b[1;33m,\u001b[0m \u001b[0mdtype\u001b[0m\u001b[1;33m=\u001b[0m\u001b[0mdtype\u001b[0m\u001b[1;33m)\u001b[0m\u001b[1;33m\u001b[0m\u001b[1;33m\u001b[0m\u001b[0m\n\u001b[0;32m    583\u001b[0m                 \u001b[1;32melse\u001b[0m\u001b[1;33m:\u001b[0m\u001b[1;33m\u001b[0m\u001b[1;33m\u001b[0m\u001b[0m\n\u001b[1;32m--> 584\u001b[1;33m                     \u001b[0mmgr\u001b[0m \u001b[1;33m=\u001b[0m \u001b[0minit_ndarray\u001b[0m\u001b[1;33m(\u001b[0m\u001b[0mdata\u001b[0m\u001b[1;33m,\u001b[0m \u001b[0mindex\u001b[0m\u001b[1;33m,\u001b[0m \u001b[0mcolumns\u001b[0m\u001b[1;33m,\u001b[0m \u001b[0mdtype\u001b[0m\u001b[1;33m=\u001b[0m\u001b[0mdtype\u001b[0m\u001b[1;33m,\u001b[0m \u001b[0mcopy\u001b[0m\u001b[1;33m=\u001b[0m\u001b[0mcopy\u001b[0m\u001b[1;33m)\u001b[0m\u001b[1;33m\u001b[0m\u001b[1;33m\u001b[0m\u001b[0m\n\u001b[0m\u001b[0;32m    585\u001b[0m             \u001b[1;32melse\u001b[0m\u001b[1;33m:\u001b[0m\u001b[1;33m\u001b[0m\u001b[1;33m\u001b[0m\u001b[0m\n\u001b[0;32m    586\u001b[0m                 \u001b[0mmgr\u001b[0m \u001b[1;33m=\u001b[0m \u001b[0minit_dict\u001b[0m\u001b[1;33m(\u001b[0m\u001b[1;33m{\u001b[0m\u001b[1;33m}\u001b[0m\u001b[1;33m,\u001b[0m \u001b[0mindex\u001b[0m\u001b[1;33m,\u001b[0m \u001b[0mcolumns\u001b[0m\u001b[1;33m,\u001b[0m \u001b[0mdtype\u001b[0m\u001b[1;33m=\u001b[0m\u001b[0mdtype\u001b[0m\u001b[1;33m)\u001b[0m\u001b[1;33m\u001b[0m\u001b[1;33m\u001b[0m\u001b[0m\n",
      "\u001b[1;32mD:\\anaconda\\lib\\site-packages\\pandas\\core\\internals\\construction.py\u001b[0m in \u001b[0;36minit_ndarray\u001b[1;34m(values, index, columns, dtype, copy)\u001b[0m\n\u001b[0;32m    190\u001b[0m     \u001b[1;31m# by definition an array here\u001b[0m\u001b[1;33m\u001b[0m\u001b[1;33m\u001b[0m\u001b[1;33m\u001b[0m\u001b[0m\n\u001b[0;32m    191\u001b[0m     \u001b[1;31m# the dtypes will be coerced to a single dtype\u001b[0m\u001b[1;33m\u001b[0m\u001b[1;33m\u001b[0m\u001b[1;33m\u001b[0m\u001b[0m\n\u001b[1;32m--> 192\u001b[1;33m     \u001b[0mvalues\u001b[0m \u001b[1;33m=\u001b[0m \u001b[0m_prep_ndarray\u001b[0m\u001b[1;33m(\u001b[0m\u001b[0mvalues\u001b[0m\u001b[1;33m,\u001b[0m \u001b[0mcopy\u001b[0m\u001b[1;33m=\u001b[0m\u001b[0mcopy\u001b[0m\u001b[1;33m)\u001b[0m\u001b[1;33m\u001b[0m\u001b[1;33m\u001b[0m\u001b[0m\n\u001b[0m\u001b[0;32m    193\u001b[0m \u001b[1;33m\u001b[0m\u001b[0m\n\u001b[0;32m    194\u001b[0m     \u001b[1;32mif\u001b[0m \u001b[0mdtype\u001b[0m \u001b[1;32mis\u001b[0m \u001b[1;32mnot\u001b[0m \u001b[1;32mNone\u001b[0m \u001b[1;32mand\u001b[0m \u001b[1;32mnot\u001b[0m \u001b[0mis_dtype_equal\u001b[0m\u001b[1;33m(\u001b[0m\u001b[0mvalues\u001b[0m\u001b[1;33m.\u001b[0m\u001b[0mdtype\u001b[0m\u001b[1;33m,\u001b[0m \u001b[0mdtype\u001b[0m\u001b[1;33m)\u001b[0m\u001b[1;33m:\u001b[0m\u001b[1;33m\u001b[0m\u001b[1;33m\u001b[0m\u001b[0m\n",
      "\u001b[1;32mD:\\anaconda\\lib\\site-packages\\pandas\\core\\internals\\construction.py\u001b[0m in \u001b[0;36m_prep_ndarray\u001b[1;34m(values, copy)\u001b[0m\n\u001b[0;32m    326\u001b[0m         \u001b[0mvalues\u001b[0m \u001b[1;33m=\u001b[0m \u001b[0mvalues\u001b[0m\u001b[1;33m.\u001b[0m\u001b[0mreshape\u001b[0m\u001b[1;33m(\u001b[0m\u001b[1;33m(\u001b[0m\u001b[0mvalues\u001b[0m\u001b[1;33m.\u001b[0m\u001b[0mshape\u001b[0m\u001b[1;33m[\u001b[0m\u001b[1;36m0\u001b[0m\u001b[1;33m]\u001b[0m\u001b[1;33m,\u001b[0m \u001b[1;36m1\u001b[0m\u001b[1;33m)\u001b[0m\u001b[1;33m)\u001b[0m\u001b[1;33m\u001b[0m\u001b[1;33m\u001b[0m\u001b[0m\n\u001b[0;32m    327\u001b[0m     \u001b[1;32melif\u001b[0m \u001b[0mvalues\u001b[0m\u001b[1;33m.\u001b[0m\u001b[0mndim\u001b[0m \u001b[1;33m!=\u001b[0m \u001b[1;36m2\u001b[0m\u001b[1;33m:\u001b[0m\u001b[1;33m\u001b[0m\u001b[1;33m\u001b[0m\u001b[0m\n\u001b[1;32m--> 328\u001b[1;33m         \u001b[1;32mraise\u001b[0m \u001b[0mValueError\u001b[0m\u001b[1;33m(\u001b[0m\u001b[1;34mf\"Must pass 2-d input. shape={values.shape}\"\u001b[0m\u001b[1;33m)\u001b[0m\u001b[1;33m\u001b[0m\u001b[1;33m\u001b[0m\u001b[0m\n\u001b[0m\u001b[0;32m    329\u001b[0m \u001b[1;33m\u001b[0m\u001b[0m\n\u001b[0;32m    330\u001b[0m     \u001b[1;32mreturn\u001b[0m \u001b[0mvalues\u001b[0m\u001b[1;33m\u001b[0m\u001b[1;33m\u001b[0m\u001b[0m\n",
      "\u001b[1;31mValueError\u001b[0m: Must pass 2-d input. shape=(1, 120, 4)"
     ]
    }
   ],
   "source": [
    "pd.DataFrame(data_sprayer_train)"
   ]
  },
  {
   "cell_type": "code",
   "execution_count": 22,
   "id": "4867001a-a168-4091-931b-97e2b0ea1831",
   "metadata": {},
   "outputs": [
    {
     "data": {
      "text/plain": [
       "44.8111111111111"
      ]
     },
     "execution_count": 22,
     "metadata": {},
     "output_type": "execute_result"
    }
   ],
   "source": [
    "data_sprayer_train[0][\"spray_volume\"].mean()"
   ]
  }
 ],
 "metadata": {
  "kernelspec": {
   "display_name": "Python 3",
   "language": "python",
   "name": "python3"
  },
  "language_info": {
   "codemirror_mode": {
    "name": "ipython",
    "version": 3
   },
   "file_extension": ".py",
   "mimetype": "text/x-python",
   "name": "python",
   "nbconvert_exporter": "python",
   "pygments_lexer": "ipython3",
   "version": "3.8.8"
  }
 },
 "nbformat": 4,
 "nbformat_minor": 5
}
